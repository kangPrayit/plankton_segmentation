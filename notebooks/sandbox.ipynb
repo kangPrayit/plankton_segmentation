{
 "cells": [
  {
   "cell_type": "code",
   "execution_count": 1,
   "outputs": [],
   "source": [
    "import os\n",
    "from pathlib import Path\n",
    "from PIL import Image\n",
    "import albumentations as A\n",
    "from albumentations.pytorch import ToTensorV2\n",
    "\n",
    "import torch\n",
    "from skorch import NeuralNetClassifier\n",
    "\n",
    "from dataset import *\n",
    "from model import *\n"
   ],
   "metadata": {
    "collapsed": false,
    "ExecuteTime": {
     "end_time": "2023-05-22T09:42:26.684204Z",
     "start_time": "2023-05-22T09:42:26.679445Z"
    }
   }
  },
  {
   "cell_type": "code",
   "execution_count": 2,
   "outputs": [
    {
     "data": {
      "text/plain": "'1.12.1'"
     },
     "execution_count": 2,
     "metadata": {},
     "output_type": "execute_result"
    }
   ],
   "source": [
    "torch.__version__"
   ],
   "metadata": {
    "collapsed": false,
    "ExecuteTime": {
     "end_time": "2023-05-22T09:35:50.486999Z",
     "start_time": "2023-05-22T09:35:50.482852Z"
    }
   }
  },
  {
   "cell_type": "code",
   "execution_count": 3,
   "outputs": [],
   "source": [
    "DATA_DIR = Path(\"../datasets/plankton_cocov2\")\n",
    "TRAIN_DIR = os.path.join(DATA_DIR, 'train')\n",
    "TEST_DIR = os.path.join(DATA_DIR, 'test')\n",
    "VALID_DIR = os.path.join(DATA_DIR, 'valid')"
   ],
   "metadata": {
    "collapsed": false,
    "ExecuteTime": {
     "end_time": "2023-05-22T09:35:51.282945Z",
     "start_time": "2023-05-22T09:35:51.280429Z"
    }
   }
  },
  {
   "cell_type": "code",
   "execution_count": 4,
   "outputs": [
    {
     "name": "stdout",
     "output_type": "stream",
     "text": [
      "loading annotations into memory...\n",
      "Done (t=0.02s)\n",
      "creating index...\n",
      "index created!\n"
     ]
    }
   ],
   "source": [
    "IMAGE_HEIGHT = 224\n",
    "IMAGE_WIDTH = 224\n",
    "\n",
    "train_transform = A.Compose([\n",
    "    A.Resize(height=IMAGE_HEIGHT, width=IMAGE_WIDTH),\n",
    "    A.ColorJitter(p=0.2),\n",
    "    A.HorizontalFlip(p=0.5),\n",
    "    ToTensorV2(),\n",
    "])\n",
    "test_transform = A.Compose([\n",
    "    A.Resize(height=IMAGE_HEIGHT, width=IMAGE_WIDTH),\n",
    "    ToTensorV2(),\n",
    "])\n",
    "train_ds = PlanktonSegmentationDataset(TRAIN_DIR, transform=train_transform)"
   ],
   "metadata": {
    "collapsed": false,
    "ExecuteTime": {
     "end_time": "2023-05-22T09:35:52.088722Z",
     "start_time": "2023-05-22T09:35:52.080241Z"
    }
   }
  },
  {
   "cell_type": "code",
   "execution_count": 5,
   "outputs": [
    {
     "data": {
      "text/plain": "227"
     },
     "execution_count": 5,
     "metadata": {},
     "output_type": "execute_result"
    }
   ],
   "source": [
    "len(train_ds)"
   ],
   "metadata": {
    "collapsed": false,
    "ExecuteTime": {
     "end_time": "2023-05-22T09:36:08.025783Z",
     "start_time": "2023-05-22T09:36:08.022935Z"
    }
   }
  },
  {
   "cell_type": "code",
   "execution_count": 6,
   "outputs": [
    {
     "data": {
      "text/plain": "(torch.Size([3, 224, 224]), torch.Size([1, 224, 224]))"
     },
     "execution_count": 6,
     "metadata": {},
     "output_type": "execute_result"
    }
   ],
   "source": [
    "image, mask = train_ds[1]\n",
    "image.shape, mask.shape"
   ],
   "metadata": {
    "collapsed": false,
    "ExecuteTime": {
     "end_time": "2023-05-22T09:45:09.859947Z",
     "start_time": "2023-05-22T09:45:09.824486Z"
    }
   }
  },
  {
   "cell_type": "code",
   "execution_count": 7,
   "outputs": [
    {
     "data": {
      "text/plain": "{0.0: 31594, 1.0: 18582}"
     },
     "execution_count": 7,
     "metadata": {},
     "output_type": "execute_result"
    }
   ],
   "source": [
    "unique, counts = np.unique(mask, return_counts=True)\n",
    "dict(zip(unique, counts))"
   ],
   "metadata": {
    "collapsed": false,
    "ExecuteTime": {
     "end_time": "2023-05-22T09:45:10.618632Z",
     "start_time": "2023-05-22T09:45:10.606942Z"
    }
   }
  },
  {
   "cell_type": "code",
   "execution_count": 9,
   "outputs": [
    {
     "ename": "KeyboardInterrupt",
     "evalue": "",
     "output_type": "error",
     "traceback": [
      "\u001B[1;31m---------------------------------------------------------------------------\u001B[0m",
      "\u001B[1;31mKeyboardInterrupt\u001B[0m                         Traceback (most recent call last)",
      "Input \u001B[1;32mIn [8]\u001B[0m, in \u001B[0;36m<cell line: 10>\u001B[1;34m()\u001B[0m\n\u001B[0;32m      1\u001B[0m net \u001B[38;5;241m=\u001B[39m NeuralNetClassifier(\n\u001B[0;32m      2\u001B[0m     UNetModule,\n\u001B[0;32m      3\u001B[0m     max_epochs\u001B[38;5;241m=\u001B[39m\u001B[38;5;241m1\u001B[39m,\n\u001B[1;32m   (...)\u001B[0m\n\u001B[0;32m      8\u001B[0m     \u001B[38;5;66;03m# device='cuda'\u001B[39;00m\n\u001B[0;32m      9\u001B[0m )\n\u001B[1;32m---> 10\u001B[0m \u001B[43mnet\u001B[49m\u001B[38;5;241;43m.\u001B[39;49m\u001B[43mfit\u001B[49m\u001B[43m(\u001B[49m\u001B[43mtrain_ds\u001B[49m\u001B[43m,\u001B[49m\u001B[43m \u001B[49m\u001B[43my\u001B[49m\u001B[38;5;241;43m=\u001B[39;49m\u001B[38;5;28;43;01mNone\u001B[39;49;00m\u001B[43m)\u001B[49m\n",
      "File \u001B[1;32m~\\anaconda3\\envs\\pytorch\\lib\\site-packages\\skorch\\classifier.py:141\u001B[0m, in \u001B[0;36mNeuralNetClassifier.fit\u001B[1;34m(self, X, y, **fit_params)\u001B[0m\n\u001B[0;32m    130\u001B[0m \u001B[38;5;250m\u001B[39m\u001B[38;5;124;03m\"\"\"See ``NeuralNet.fit``.\u001B[39;00m\n\u001B[0;32m    131\u001B[0m \n\u001B[0;32m    132\u001B[0m \u001B[38;5;124;03mIn contrast to ``NeuralNet.fit``, ``y`` is non-optional to\u001B[39;00m\n\u001B[1;32m   (...)\u001B[0m\n\u001B[0;32m    136\u001B[0m \n\u001B[0;32m    137\u001B[0m \u001B[38;5;124;03m\"\"\"\u001B[39;00m\n\u001B[0;32m    138\u001B[0m \u001B[38;5;66;03m# pylint: disable=useless-super-delegation\u001B[39;00m\n\u001B[0;32m    139\u001B[0m \u001B[38;5;66;03m# this is actually a pylint bug:\u001B[39;00m\n\u001B[0;32m    140\u001B[0m \u001B[38;5;66;03m# https://github.com/PyCQA/pylint/issues/1085\u001B[39;00m\n\u001B[1;32m--> 141\u001B[0m \u001B[38;5;28;01mreturn\u001B[39;00m \u001B[38;5;28;43msuper\u001B[39;49m\u001B[43m(\u001B[49m\u001B[43mNeuralNetClassifier\u001B[49m\u001B[43m,\u001B[49m\u001B[43m \u001B[49m\u001B[38;5;28;43mself\u001B[39;49m\u001B[43m)\u001B[49m\u001B[38;5;241;43m.\u001B[39;49m\u001B[43mfit\u001B[49m\u001B[43m(\u001B[49m\u001B[43mX\u001B[49m\u001B[43m,\u001B[49m\u001B[43m \u001B[49m\u001B[43my\u001B[49m\u001B[43m,\u001B[49m\u001B[43m \u001B[49m\u001B[38;5;241;43m*\u001B[39;49m\u001B[38;5;241;43m*\u001B[39;49m\u001B[43mfit_params\u001B[49m\u001B[43m)\u001B[49m\n",
      "File \u001B[1;32m~\\anaconda3\\envs\\pytorch\\lib\\site-packages\\skorch\\net.py:1230\u001B[0m, in \u001B[0;36mNeuralNet.fit\u001B[1;34m(self, X, y, **fit_params)\u001B[0m\n\u001B[0;32m   1227\u001B[0m \u001B[38;5;28;01mif\u001B[39;00m \u001B[38;5;129;01mnot\u001B[39;00m \u001B[38;5;28mself\u001B[39m\u001B[38;5;241m.\u001B[39mwarm_start \u001B[38;5;129;01mor\u001B[39;00m \u001B[38;5;129;01mnot\u001B[39;00m \u001B[38;5;28mself\u001B[39m\u001B[38;5;241m.\u001B[39minitialized_:\n\u001B[0;32m   1228\u001B[0m     \u001B[38;5;28mself\u001B[39m\u001B[38;5;241m.\u001B[39minitialize()\n\u001B[1;32m-> 1230\u001B[0m \u001B[38;5;28;43mself\u001B[39;49m\u001B[38;5;241;43m.\u001B[39;49m\u001B[43mpartial_fit\u001B[49m\u001B[43m(\u001B[49m\u001B[43mX\u001B[49m\u001B[43m,\u001B[49m\u001B[43m \u001B[49m\u001B[43my\u001B[49m\u001B[43m,\u001B[49m\u001B[43m \u001B[49m\u001B[38;5;241;43m*\u001B[39;49m\u001B[38;5;241;43m*\u001B[39;49m\u001B[43mfit_params\u001B[49m\u001B[43m)\u001B[49m\n\u001B[0;32m   1231\u001B[0m \u001B[38;5;28;01mreturn\u001B[39;00m \u001B[38;5;28mself\u001B[39m\n",
      "File \u001B[1;32m~\\anaconda3\\envs\\pytorch\\lib\\site-packages\\skorch\\net.py:1192\u001B[0m, in \u001B[0;36mNeuralNet.partial_fit\u001B[1;34m(self, X, y, classes, **fit_params)\u001B[0m\n\u001B[0;32m   1190\u001B[0m \u001B[38;5;28;01mexcept\u001B[39;00m \u001B[38;5;167;01mKeyboardInterrupt\u001B[39;00m:\n\u001B[0;32m   1191\u001B[0m     \u001B[38;5;28;01mpass\u001B[39;00m\n\u001B[1;32m-> 1192\u001B[0m \u001B[38;5;28;43mself\u001B[39;49m\u001B[38;5;241;43m.\u001B[39;49m\u001B[43mnotify\u001B[49m(\u001B[38;5;124m'\u001B[39m\u001B[38;5;124mon_train_end\u001B[39m\u001B[38;5;124m'\u001B[39m, X\u001B[38;5;241m=\u001B[39mX, y\u001B[38;5;241m=\u001B[39my)\n\u001B[0;32m   1193\u001B[0m \u001B[38;5;28;01mreturn\u001B[39;00m \u001B[38;5;28mself\u001B[39m\n",
      "\u001B[1;31mKeyboardInterrupt\u001B[0m: "
     ]
    },
    {
     "data": {
      "text/plain": "<class 'skorch.classifier.NeuralNetClassifier'>[initialized](\n  module_=UNetModule(\n    (model): Unet(\n      (encoder): EfficientNetEncoder(\n        (_conv_stem): Conv2dStaticSamePadding(\n          3, 40, kernel_size=(3, 3), stride=(2, 2), bias=False\n          (static_padding): ZeroPad2d((0, 1, 0, 1))\n        )\n        (_bn0): BatchNorm2d(40, eps=0.001, momentum=0.010000000000000009, affine=True, track_running_stats=True)\n        (_blocks): ModuleList(\n          (0): MBConvBlock(\n            (_depthwise_conv): Conv2dStaticSamePadding(\n              40, 40, kernel_size=(3, 3), stride=[1, 1], groups=40, bias=False\n              (static_padding): ZeroPad2d((1, 1, 1, 1))\n            )\n            (_bn1): BatchNorm2d(40, eps=0.001, momentum=0.010000000000000009, affine=True, track_running_stats=True)\n            (_se_reduce): Conv2dStaticSamePadding(\n              40, 10, kernel_size=(1, 1), stride=(1, 1)\n              (static_padding): Identity()\n            )\n            (_se_expand): Conv2dStaticSamePadding(\n              10, 40, kernel_size=(1, 1), stride=(1, 1)\n              (static_padding): Identity()\n            )\n            (_project_conv): Conv2dStaticSamePadding(\n              40, 24, kernel_size=(1, 1), stride=(1, 1), bias=False\n              (static_padding): Identity()\n            )\n            (_bn2): BatchNorm2d(24, eps=0.001, momentum=0.010000000000000009, affine=True, track_running_stats=True)\n            (_swish): MemoryEfficientSwish()\n          )\n          (1): MBConvBlock(\n            (_depthwise_conv): Conv2dStaticSamePadding(\n              24, 24, kernel_size=(3, 3), stride=(1, 1), groups=24, bias=False\n              (static_padding): ZeroPad2d((1, 1, 1, 1))\n            )\n            (_bn1): BatchNorm2d(24, eps=0.001, momentum=0.010000000000000009, affine=True, track_running_stats=True)\n            (_se_reduce): Conv2dStaticSamePadding(\n              24, 6, kernel_size=(1, 1), stride=(1, 1)\n              (static_padding): Identity()\n            )\n            (_se_expand): Conv2dStaticSamePadding(\n              6, 24, kernel_size=(1, 1), stride=(1, 1)\n              (static_padding): Identity()\n            )\n            (_project_conv): Conv2dStaticSamePadding(\n              24, 24, kernel_size=(1, 1), stride=(1, 1), bias=False\n              (static_padding): Identity()\n            )\n            (_bn2): BatchNorm2d(24, eps=0.001, momentum=0.010000000000000009, affine=True, track_running_stats=True)\n            (_swish): MemoryEfficientSwish()\n          )\n          (2): MBConvBlock(\n            (_expand_conv): Conv2dStaticSamePadding(\n              24, 144, kernel_size=(1, 1), stride=(1, 1), bias=False\n              (static_padding): Identity()\n            )\n            (_bn0): BatchNorm2d(144, eps=0.001, momentum=0.010000000000000009, affine=True, track_running_stats=True)\n            (_depthwise_conv): Conv2dStaticSamePadding(\n              144, 144, kernel_size=(3, 3), stride=[2, 2], groups=144, bias=False\n              (static_padding): ZeroPad2d((0, 1, 0, 1))\n            )\n            (_bn1): BatchNorm2d(144, eps=0.001, momentum=0.010000000000000009, affine=True, track_running_stats=True)\n            (_se_reduce): Conv2dStaticSamePadding(\n              144, 6, kernel_size=(1, 1), stride=(1, 1)\n              (static_padding): Identity()\n            )\n            (_se_expand): Conv2dStaticSamePadding(\n              6, 144, kernel_size=(1, 1), stride=(1, 1)\n              (static_padding): Identity()\n            )\n            (_project_conv): Conv2dStaticSamePadding(\n              144, 32, kernel_size=(1, 1), stride=(1, 1), bias=False\n              (static_padding): Identity()\n            )\n            (_bn2): BatchNorm2d(32, eps=0.001, momentum=0.010000000000000009, affine=True, track_running_stats=True)\n            (_swish): MemoryEfficientSwish()\n          )\n          (3): MBConvBlock(\n            (_expand_conv): Conv2dStaticSamePadding(\n              32, 192, kernel_size=(1, 1), stride=(1, 1), bias=False\n              (static_padding): Identity()\n            )\n            (_bn0): BatchNorm2d(192, eps=0.001, momentum=0.010000000000000009, affine=True, track_running_stats=True)\n            (_depthwise_conv): Conv2dStaticSamePadding(\n              192, 192, kernel_size=(3, 3), stride=(1, 1), groups=192, bias=False\n              (static_padding): ZeroPad2d((1, 1, 1, 1))\n            )\n            (_bn1): BatchNorm2d(192, eps=0.001, momentum=0.010000000000000009, affine=True, track_running_stats=True)\n            (_se_reduce): Conv2dStaticSamePadding(\n              192, 8, kernel_size=(1, 1), stride=(1, 1)\n              (static_padding): Identity()\n            )\n            (_se_expand): Conv2dStaticSamePadding(\n              8, 192, kernel_size=(1, 1), stride=(1, 1)\n              (static_padding): Identity()\n            )\n            (_project_conv): Conv2dStaticSamePadding(\n              192, 32, kernel_size=(1, 1), stride=(1, 1), bias=False\n              (static_padding): Identity()\n            )\n            (_bn2): BatchNorm2d(32, eps=0.001, momentum=0.010000000000000009, affine=True, track_running_stats=True)\n            (_swish): MemoryEfficientSwish()\n          )\n          (4): MBConvBlock(\n            (_expand_conv): Conv2dStaticSamePadding(\n              32, 192, kernel_size=(1, 1), stride=(1, 1), bias=False\n              (static_padding): Identity()\n            )\n            (_bn0): BatchNorm2d(192, eps=0.001, momentum=0.010000000000000009, affine=True, track_running_stats=True)\n            (_depthwise_conv): Conv2dStaticSamePadding(\n              192, 192, kernel_size=(3, 3), stride=(1, 1), groups=192, bias=False\n              (static_padding): ZeroPad2d((1, 1, 1, 1))\n            )\n            (_bn1): BatchNorm2d(192, eps=0.001, momentum=0.010000000000000009, affine=True, track_running_stats=True)\n            (_se_reduce): Conv2dStaticSamePadding(\n              192, 8, kernel_size=(1, 1), stride=(1, 1)\n              (static_padding): Identity()\n            )\n            (_se_expand): Conv2dStaticSamePadding(\n              8, 192, kernel_size=(1, 1), stride=(1, 1)\n              (static_padding): Identity()\n            )\n            (_project_conv): Conv2dStaticSamePadding(\n              192, 32, kernel_size=(1, 1), stride=(1, 1), bias=False\n              (static_padding): Identity()\n            )\n            (_bn2): BatchNorm2d(32, eps=0.001, momentum=0.010000000000000009, affine=True, track_running_stats=True)\n            (_swish): MemoryEfficientSwish()\n          )\n          (5): MBConvBlock(\n            (_expand_conv): Conv2dStaticSamePadding(\n              32, 192, kernel_size=(1, 1), stride=(1, 1), bias=False\n              (static_padding): Identity()\n            )\n            (_bn0): BatchNorm2d(192, eps=0.001, momentum=0.010000000000000009, affine=True, track_running_stats=True)\n            (_depthwise_conv): Conv2dStaticSamePadding(\n              192, 192, kernel_size=(5, 5), stride=[2, 2], groups=192, bias=False\n              (static_padding): ZeroPad2d((2, 2, 2, 2))\n            )\n            (_bn1): BatchNorm2d(192, eps=0.001, momentum=0.010000000000000009, affine=True, track_running_stats=True)\n            (_se_reduce): Conv2dStaticSamePadding(\n              192, 8, kernel_size=(1, 1), stride=(1, 1)\n              (static_padding): Identity()\n            )\n            (_se_expand): Conv2dStaticSamePadding(\n              8, 192, kernel_size=(1, 1), stride=(1, 1)\n              (static_padding): Identity()\n            )\n            (_project_conv): Conv2dStaticSamePadding(\n              192, 48, kernel_size=(1, 1), stride=(1, 1), bias=False\n              (static_padding): Identity()\n            )\n            (_bn2): BatchNorm2d(48, eps=0.001, momentum=0.010000000000000009, affine=True, track_running_stats=True)\n            (_swish): MemoryEfficientSwish()\n          )\n          (6): MBConvBlock(\n            (_expand_conv): Conv2dStaticSamePadding(\n              48, 288, kernel_size=(1, 1), stride=(1, 1), bias=False\n              (static_padding): Identity()\n            )\n            (_bn0): BatchNorm2d(288, eps=0.001, momentum=0.010000000000000009, affine=True, track_running_stats=True)\n            (_depthwise_conv): Conv2dStaticSamePadding(\n              288, 288, kernel_size=(5, 5), stride=(1, 1), groups=288, bias=False\n              (static_padding): ZeroPad2d((2, 2, 2, 2))\n            )\n            (_bn1): BatchNorm2d(288, eps=0.001, momentum=0.010000000000000009, affine=True, track_running_stats=True)\n            (_se_reduce): Conv2dStaticSamePadding(\n              288, 12, kernel_size=(1, 1), stride=(1, 1)\n              (static_padding): Identity()\n            )\n            (_se_expand): Conv2dStaticSamePadding(\n              12, 288, kernel_size=(1, 1), stride=(1, 1)\n              (static_padding): Identity()\n            )\n            (_project_conv): Conv2dStaticSamePadding(\n              288, 48, kernel_size=(1, 1), stride=(1, 1), bias=False\n              (static_padding): Identity()\n            )\n            (_bn2): BatchNorm2d(48, eps=0.001, momentum=0.010000000000000009, affine=True, track_running_stats=True)\n            (_swish): MemoryEfficientSwish()\n          )\n          (7): MBConvBlock(\n            (_expand_conv): Conv2dStaticSamePadding(\n              48, 288, kernel_size=(1, 1), stride=(1, 1), bias=False\n              (static_padding): Identity()\n            )\n            (_bn0): BatchNorm2d(288, eps=0.001, momentum=0.010000000000000009, affine=True, track_running_stats=True)\n            (_depthwise_conv): Conv2dStaticSamePadding(\n              288, 288, kernel_size=(5, 5), stride=(1, 1), groups=288, bias=False\n              (static_padding): ZeroPad2d((2, 2, 2, 2))\n            )\n            (_bn1): BatchNorm2d(288, eps=0.001, momentum=0.010000000000000009, affine=True, track_running_stats=True)\n            (_se_reduce): Conv2dStaticSamePadding(\n              288, 12, kernel_size=(1, 1), stride=(1, 1)\n              (static_padding): Identity()\n            )\n            (_se_expand): Conv2dStaticSamePadding(\n              12, 288, kernel_size=(1, 1), stride=(1, 1)\n              (static_padding): Identity()\n            )\n            (_project_conv): Conv2dStaticSamePadding(\n              288, 48, kernel_size=(1, 1), stride=(1, 1), bias=False\n              (static_padding): Identity()\n            )\n            (_bn2): BatchNorm2d(48, eps=0.001, momentum=0.010000000000000009, affine=True, track_running_stats=True)\n            (_swish): MemoryEfficientSwish()\n          )\n          (8): MBConvBlock(\n            (_expand_conv): Conv2dStaticSamePadding(\n              48, 288, kernel_size=(1, 1), stride=(1, 1), bias=False\n              (static_padding): Identity()\n            )\n            (_bn0): BatchNorm2d(288, eps=0.001, momentum=0.010000000000000009, affine=True, track_running_stats=True)\n            (_depthwise_conv): Conv2dStaticSamePadding(\n              288, 288, kernel_size=(3, 3), stride=[2, 2], groups=288, bias=False\n              (static_padding): ZeroPad2d((0, 1, 0, 1))\n            )\n            (_bn1): BatchNorm2d(288, eps=0.001, momentum=0.010000000000000009, affine=True, track_running_stats=True)\n            (_se_reduce): Conv2dStaticSamePadding(\n              288, 12, kernel_size=(1, 1), stride=(1, 1)\n              (static_padding): Identity()\n            )\n            (_se_expand): Conv2dStaticSamePadding(\n              12, 288, kernel_size=(1, 1), stride=(1, 1)\n              (static_padding): Identity()\n            )\n            (_project_conv): Conv2dStaticSamePadding(\n              288, 96, kernel_size=(1, 1), stride=(1, 1), bias=False\n              (static_padding): Identity()\n            )\n            (_bn2): BatchNorm2d(96, eps=0.001, momentum=0.010000000000000009, affine=True, track_running_stats=True)\n            (_swish): MemoryEfficientSwish()\n          )\n          (9): MBConvBlock(\n            (_expand_conv): Conv2dStaticSamePadding(\n              96, 576, kernel_size=(1, 1), stride=(1, 1), bias=False\n              (static_padding): Identity()\n            )\n            (_bn0): BatchNorm2d(576, eps=0.001, momentum=0.010000000000000009, affine=True, track_running_stats=True)\n            (_depthwise_conv): Conv2dStaticSamePadding(\n              576, 576, kernel_size=(3, 3), stride=(1, 1), groups=576, bias=False\n              (static_padding): ZeroPad2d((1, 1, 1, 1))\n            )\n            (_bn1): BatchNorm2d(576, eps=0.001, momentum=0.010000000000000009, affine=True, track_running_stats=True)\n            (_se_reduce): Conv2dStaticSamePadding(\n              576, 24, kernel_size=(1, 1), stride=(1, 1)\n              (static_padding): Identity()\n            )\n            (_se_expand): Conv2dStaticSamePadding(\n              24, 576, kernel_size=(1, 1), stride=(1, 1)\n              (static_padding): Identity()\n            )\n            (_project_conv): Conv2dStaticSamePadding(\n              576, 96, kernel_size=(1, 1), stride=(1, 1), bias=False\n              (static_padding): Identity()\n            )\n            (_bn2): BatchNorm2d(96, eps=0.001, momentum=0.010000000000000009, affine=True, track_running_stats=True)\n            (_swish): MemoryEfficientSwish()\n          )\n          (10): MBConvBlock(\n            (_expand_conv): Conv2dStaticSamePadding(\n              96, 576, kernel_size=(1, 1), stride=(1, 1), bias=False\n              (static_padding): Identity()\n            )\n            (_bn0): BatchNorm2d(576, eps=0.001, momentum=0.010000000000000009, affine=True, track_running_stats=True)\n            (_depthwise_conv): Conv2dStaticSamePadding(\n              576, 576, kernel_size=(3, 3), stride=(1, 1), groups=576, bias=False\n              (static_padding): ZeroPad2d((1, 1, 1, 1))\n            )\n            (_bn1): BatchNorm2d(576, eps=0.001, momentum=0.010000000000000009, affine=True, track_running_stats=True)\n            (_se_reduce): Conv2dStaticSamePadding(\n              576, 24, kernel_size=(1, 1), stride=(1, 1)\n              (static_padding): Identity()\n            )\n            (_se_expand): Conv2dStaticSamePadding(\n              24, 576, kernel_size=(1, 1), stride=(1, 1)\n              (static_padding): Identity()\n            )\n            (_project_conv): Conv2dStaticSamePadding(\n              576, 96, kernel_size=(1, 1), stride=(1, 1), bias=False\n              (static_padding): Identity()\n            )\n            (_bn2): BatchNorm2d(96, eps=0.001, momentum=0.010000000000000009, affine=True, track_running_stats=True)\n            (_swish): MemoryEfficientSwish()\n          )\n          (11): MBConvBlock(\n            (_expand_conv): Conv2dStaticSamePadding(\n              96, 576, kernel_size=(1, 1), stride=(1, 1), bias=False\n              (static_padding): Identity()\n            )\n            (_bn0): BatchNorm2d(576, eps=0.001, momentum=0.010000000000000009, affine=True, track_running_stats=True)\n            (_depthwise_conv): Conv2dStaticSamePadding(\n              576, 576, kernel_size=(3, 3), stride=(1, 1), groups=576, bias=False\n              (static_padding): ZeroPad2d((1, 1, 1, 1))\n            )\n            (_bn1): BatchNorm2d(576, eps=0.001, momentum=0.010000000000000009, affine=True, track_running_stats=True)\n            (_se_reduce): Conv2dStaticSamePadding(\n              576, 24, kernel_size=(1, 1), stride=(1, 1)\n              (static_padding): Identity()\n            )\n            (_se_expand): Conv2dStaticSamePadding(\n              24, 576, kernel_size=(1, 1), stride=(1, 1)\n              (static_padding): Identity()\n            )\n            (_project_conv): Conv2dStaticSamePadding(\n              576, 96, kernel_size=(1, 1), stride=(1, 1), bias=False\n              (static_padding): Identity()\n            )\n            (_bn2): BatchNorm2d(96, eps=0.001, momentum=0.010000000000000009, affine=True, track_running_stats=True)\n            (_swish): MemoryEfficientSwish()\n          )\n          (12): MBConvBlock(\n            (_expand_conv): Conv2dStaticSamePadding(\n              96, 576, kernel_size=(1, 1), stride=(1, 1), bias=False\n              (static_padding): Identity()\n            )\n            (_bn0): BatchNorm2d(576, eps=0.001, momentum=0.010000000000000009, affine=True, track_running_stats=True)\n            (_depthwise_conv): Conv2dStaticSamePadding(\n              576, 576, kernel_size=(3, 3), stride=(1, 1), groups=576, bias=False\n              (static_padding): ZeroPad2d((1, 1, 1, 1))\n            )\n            (_bn1): BatchNorm2d(576, eps=0.001, momentum=0.010000000000000009, affine=True, track_running_stats=True)\n            (_se_reduce): Conv2dStaticSamePadding(\n              576, 24, kernel_size=(1, 1), stride=(1, 1)\n              (static_padding): Identity()\n            )\n            (_se_expand): Conv2dStaticSamePadding(\n              24, 576, kernel_size=(1, 1), stride=(1, 1)\n              (static_padding): Identity()\n            )\n            (_project_conv): Conv2dStaticSamePadding(\n              576, 96, kernel_size=(1, 1), stride=(1, 1), bias=False\n              (static_padding): Identity()\n            )\n            (_bn2): BatchNorm2d(96, eps=0.001, momentum=0.010000000000000009, affine=True, track_running_stats=True)\n            (_swish): MemoryEfficientSwish()\n          )\n          (13): MBConvBlock(\n            (_expand_conv): Conv2dStaticSamePadding(\n              96, 576, kernel_size=(1, 1), stride=(1, 1), bias=False\n              (static_padding): Identity()\n            )\n            (_bn0): BatchNorm2d(576, eps=0.001, momentum=0.010000000000000009, affine=True, track_running_stats=True)\n            (_depthwise_conv): Conv2dStaticSamePadding(\n              576, 576, kernel_size=(5, 5), stride=[1, 1], groups=576, bias=False\n              (static_padding): ZeroPad2d((2, 2, 2, 2))\n            )\n            (_bn1): BatchNorm2d(576, eps=0.001, momentum=0.010000000000000009, affine=True, track_running_stats=True)\n            (_se_reduce): Conv2dStaticSamePadding(\n              576, 24, kernel_size=(1, 1), stride=(1, 1)\n              (static_padding): Identity()\n            )\n            (_se_expand): Conv2dStaticSamePadding(\n              24, 576, kernel_size=(1, 1), stride=(1, 1)\n              (static_padding): Identity()\n            )\n            (_project_conv): Conv2dStaticSamePadding(\n              576, 136, kernel_size=(1, 1), stride=(1, 1), bias=False\n              (static_padding): Identity()\n            )\n            (_bn2): BatchNorm2d(136, eps=0.001, momentum=0.010000000000000009, affine=True, track_running_stats=True)\n            (_swish): MemoryEfficientSwish()\n          )\n          (14): MBConvBlock(\n            (_expand_conv): Conv2dStaticSamePadding(\n              136, 816, kernel_size=(1, 1), stride=(1, 1), bias=False\n              (static_padding): Identity()\n            )\n            (_bn0): BatchNorm2d(816, eps=0.001, momentum=0.010000000000000009, affine=True, track_running_stats=True)\n            (_depthwise_conv): Conv2dStaticSamePadding(\n              816, 816, kernel_size=(5, 5), stride=(1, 1), groups=816, bias=False\n              (static_padding): ZeroPad2d((2, 2, 2, 2))\n            )\n            (_bn1): BatchNorm2d(816, eps=0.001, momentum=0.010000000000000009, affine=True, track_running_stats=True)\n            (_se_reduce): Conv2dStaticSamePadding(\n              816, 34, kernel_size=(1, 1), stride=(1, 1)\n              (static_padding): Identity()\n            )\n            (_se_expand): Conv2dStaticSamePadding(\n              34, 816, kernel_size=(1, 1), stride=(1, 1)\n              (static_padding): Identity()\n            )\n            (_project_conv): Conv2dStaticSamePadding(\n              816, 136, kernel_size=(1, 1), stride=(1, 1), bias=False\n              (static_padding): Identity()\n            )\n            (_bn2): BatchNorm2d(136, eps=0.001, momentum=0.010000000000000009, affine=True, track_running_stats=True)\n            (_swish): MemoryEfficientSwish()\n          )\n          (15): MBConvBlock(\n            (_expand_conv): Conv2dStaticSamePadding(\n              136, 816, kernel_size=(1, 1), stride=(1, 1), bias=False\n              (static_padding): Identity()\n            )\n            (_bn0): BatchNorm2d(816, eps=0.001, momentum=0.010000000000000009, affine=True, track_running_stats=True)\n            (_depthwise_conv): Conv2dStaticSamePadding(\n              816, 816, kernel_size=(5, 5), stride=(1, 1), groups=816, bias=False\n              (static_padding): ZeroPad2d((2, 2, 2, 2))\n            )\n            (_bn1): BatchNorm2d(816, eps=0.001, momentum=0.010000000000000009, affine=True, track_running_stats=True)\n            (_se_reduce): Conv2dStaticSamePadding(\n              816, 34, kernel_size=(1, 1), stride=(1, 1)\n              (static_padding): Identity()\n            )\n            (_se_expand): Conv2dStaticSamePadding(\n              34, 816, kernel_size=(1, 1), stride=(1, 1)\n              (static_padding): Identity()\n            )\n            (_project_conv): Conv2dStaticSamePadding(\n              816, 136, kernel_size=(1, 1), stride=(1, 1), bias=False\n              (static_padding): Identity()\n            )\n            (_bn2): BatchNorm2d(136, eps=0.001, momentum=0.010000000000000009, affine=True, track_running_stats=True)\n            (_swish): MemoryEfficientSwish()\n          )\n          (16): MBConvBlock(\n            (_expand_conv): Conv2dStaticSamePadding(\n              136, 816, kernel_size=(1, 1), stride=(1, 1), bias=False\n              (static_padding): Identity()\n            )\n            (_bn0): BatchNorm2d(816, eps=0.001, momentum=0.010000000000000009, affine=True, track_running_stats=True)\n            (_depthwise_conv): Conv2dStaticSamePadding(\n              816, 816, kernel_size=(5, 5), stride=(1, 1), groups=816, bias=False\n              (static_padding): ZeroPad2d((2, 2, 2, 2))\n            )\n            (_bn1): BatchNorm2d(816, eps=0.001, momentum=0.010000000000000009, affine=True, track_running_stats=True)\n            (_se_reduce): Conv2dStaticSamePadding(\n              816, 34, kernel_size=(1, 1), stride=(1, 1)\n              (static_padding): Identity()\n            )\n            (_se_expand): Conv2dStaticSamePadding(\n              34, 816, kernel_size=(1, 1), stride=(1, 1)\n              (static_padding): Identity()\n            )\n            (_project_conv): Conv2dStaticSamePadding(\n              816, 136, kernel_size=(1, 1), stride=(1, 1), bias=False\n              (static_padding): Identity()\n            )\n            (_bn2): BatchNorm2d(136, eps=0.001, momentum=0.010000000000000009, affine=True, track_running_stats=True)\n            (_swish): MemoryEfficientSwish()\n          )\n          (17): MBConvBlock(\n            (_expand_conv): Conv2dStaticSamePadding(\n              136, 816, kernel_size=(1, 1), stride=(1, 1), bias=False\n              (static_padding): Identity()\n            )\n            (_bn0): BatchNorm2d(816, eps=0.001, momentum=0.010000000000000009, affine=True, track_running_stats=True)\n            (_depthwise_conv): Conv2dStaticSamePadding(\n              816, 816, kernel_size=(5, 5), stride=(1, 1), groups=816, bias=False\n              (static_padding): ZeroPad2d((2, 2, 2, 2))\n            )\n            (_bn1): BatchNorm2d(816, eps=0.001, momentum=0.010000000000000009, affine=True, track_running_stats=True)\n            (_se_reduce): Conv2dStaticSamePadding(\n              816, 34, kernel_size=(1, 1), stride=(1, 1)\n              (static_padding): Identity()\n            )\n            (_se_expand): Conv2dStaticSamePadding(\n              34, 816, kernel_size=(1, 1), stride=(1, 1)\n              (static_padding): Identity()\n            )\n            (_project_conv): Conv2dStaticSamePadding(\n              816, 136, kernel_size=(1, 1), stride=(1, 1), bias=False\n              (static_padding): Identity()\n            )\n            (_bn2): BatchNorm2d(136, eps=0.001, momentum=0.010000000000000009, affine=True, track_running_stats=True)\n            (_swish): MemoryEfficientSwish()\n          )\n          (18): MBConvBlock(\n            (_expand_conv): Conv2dStaticSamePadding(\n              136, 816, kernel_size=(1, 1), stride=(1, 1), bias=False\n              (static_padding): Identity()\n            )\n            (_bn0): BatchNorm2d(816, eps=0.001, momentum=0.010000000000000009, affine=True, track_running_stats=True)\n            (_depthwise_conv): Conv2dStaticSamePadding(\n              816, 816, kernel_size=(5, 5), stride=[2, 2], groups=816, bias=False\n              (static_padding): ZeroPad2d((2, 2, 2, 2))\n            )\n            (_bn1): BatchNorm2d(816, eps=0.001, momentum=0.010000000000000009, affine=True, track_running_stats=True)\n            (_se_reduce): Conv2dStaticSamePadding(\n              816, 34, kernel_size=(1, 1), stride=(1, 1)\n              (static_padding): Identity()\n            )\n            (_se_expand): Conv2dStaticSamePadding(\n              34, 816, kernel_size=(1, 1), stride=(1, 1)\n              (static_padding): Identity()\n            )\n            (_project_conv): Conv2dStaticSamePadding(\n              816, 232, kernel_size=(1, 1), stride=(1, 1), bias=False\n              (static_padding): Identity()\n            )\n            (_bn2): BatchNorm2d(232, eps=0.001, momentum=0.010000000000000009, affine=True, track_running_stats=True)\n            (_swish): MemoryEfficientSwish()\n          )\n          (19): MBConvBlock(\n            (_expand_conv): Conv2dStaticSamePadding(\n              232, 1392, kernel_size=(1, 1), stride=(1, 1), bias=False\n              (static_padding): Identity()\n            )\n            (_bn0): BatchNorm2d(1392, eps=0.001, momentum=0.010000000000000009, affine=True, track_running_stats=True)\n            (_depthwise_conv): Conv2dStaticSamePadding(\n              1392, 1392, kernel_size=(5, 5), stride=(1, 1), groups=1392, bias=False\n              (static_padding): ZeroPad2d((2, 2, 2, 2))\n            )\n            (_bn1): BatchNorm2d(1392, eps=0.001, momentum=0.010000000000000009, affine=True, track_running_stats=True)\n            (_se_reduce): Conv2dStaticSamePadding(\n              1392, 58, kernel_size=(1, 1), stride=(1, 1)\n              (static_padding): Identity()\n            )\n            (_se_expand): Conv2dStaticSamePadding(\n              58, 1392, kernel_size=(1, 1), stride=(1, 1)\n              (static_padding): Identity()\n            )\n            (_project_conv): Conv2dStaticSamePadding(\n              1392, 232, kernel_size=(1, 1), stride=(1, 1), bias=False\n              (static_padding): Identity()\n            )\n            (_bn2): BatchNorm2d(232, eps=0.001, momentum=0.010000000000000009, affine=True, track_running_stats=True)\n            (_swish): MemoryEfficientSwish()\n          )\n          (20): MBConvBlock(\n            (_expand_conv): Conv2dStaticSamePadding(\n              232, 1392, kernel_size=(1, 1), stride=(1, 1), bias=False\n              (static_padding): Identity()\n            )\n            (_bn0): BatchNorm2d(1392, eps=0.001, momentum=0.010000000000000009, affine=True, track_running_stats=True)\n            (_depthwise_conv): Conv2dStaticSamePadding(\n              1392, 1392, kernel_size=(5, 5), stride=(1, 1), groups=1392, bias=False\n              (static_padding): ZeroPad2d((2, 2, 2, 2))\n            )\n            (_bn1): BatchNorm2d(1392, eps=0.001, momentum=0.010000000000000009, affine=True, track_running_stats=True)\n            (_se_reduce): Conv2dStaticSamePadding(\n              1392, 58, kernel_size=(1, 1), stride=(1, 1)\n              (static_padding): Identity()\n            )\n            (_se_expand): Conv2dStaticSamePadding(\n              58, 1392, kernel_size=(1, 1), stride=(1, 1)\n              (static_padding): Identity()\n            )\n            (_project_conv): Conv2dStaticSamePadding(\n              1392, 232, kernel_size=(1, 1), stride=(1, 1), bias=False\n              (static_padding): Identity()\n            )\n            (_bn2): BatchNorm2d(232, eps=0.001, momentum=0.010000000000000009, affine=True, track_running_stats=True)\n            (_swish): MemoryEfficientSwish()\n          )\n          (21): MBConvBlock(\n            (_expand_conv): Conv2dStaticSamePadding(\n              232, 1392, kernel_size=(1, 1), stride=(1, 1), bias=False\n              (static_padding): Identity()\n            )\n            (_bn0): BatchNorm2d(1392, eps=0.001, momentum=0.010000000000000009, affine=True, track_running_stats=True)\n            (_depthwise_conv): Conv2dStaticSamePadding(\n              1392, 1392, kernel_size=(5, 5), stride=(1, 1), groups=1392, bias=False\n              (static_padding): ZeroPad2d((2, 2, 2, 2))\n            )\n            (_bn1): BatchNorm2d(1392, eps=0.001, momentum=0.010000000000000009, affine=True, track_running_stats=True)\n            (_se_reduce): Conv2dStaticSamePadding(\n              1392, 58, kernel_size=(1, 1), stride=(1, 1)\n              (static_padding): Identity()\n            )\n            (_se_expand): Conv2dStaticSamePadding(\n              58, 1392, kernel_size=(1, 1), stride=(1, 1)\n              (static_padding): Identity()\n            )\n            (_project_conv): Conv2dStaticSamePadding(\n              1392, 232, kernel_size=(1, 1), stride=(1, 1), bias=False\n              (static_padding): Identity()\n            )\n            (_bn2): BatchNorm2d(232, eps=0.001, momentum=0.010000000000000009, affine=True, track_running_stats=True)\n            (_swish): MemoryEfficientSwish()\n          )\n          (22): MBConvBlock(\n            (_expand_conv): Conv2dStaticSamePadding(\n              232, 1392, kernel_size=(1, 1), stride=(1, 1), bias=False\n              (static_padding): Identity()\n            )\n            (_bn0): BatchNorm2d(1392, eps=0.001, momentum=0.010000000000000009, affine=True, track_running_stats=True)\n            (_depthwise_conv): Conv2dStaticSamePadding(\n              1392, 1392, kernel_size=(5, 5), stride=(1, 1), groups=1392, bias=False\n              (static_padding): ZeroPad2d((2, 2, 2, 2))\n            )\n            (_bn1): BatchNorm2d(1392, eps=0.001, momentum=0.010000000000000009, affine=True, track_running_stats=True)\n            (_se_reduce): Conv2dStaticSamePadding(\n              1392, 58, kernel_size=(1, 1), stride=(1, 1)\n              (static_padding): Identity()\n            )\n            (_se_expand): Conv2dStaticSamePadding(\n              58, 1392, kernel_size=(1, 1), stride=(1, 1)\n              (static_padding): Identity()\n            )\n            (_project_conv): Conv2dStaticSamePadding(\n              1392, 232, kernel_size=(1, 1), stride=(1, 1), bias=False\n              (static_padding): Identity()\n            )\n            (_bn2): BatchNorm2d(232, eps=0.001, momentum=0.010000000000000009, affine=True, track_running_stats=True)\n            (_swish): MemoryEfficientSwish()\n          )\n          (23): MBConvBlock(\n            (_expand_conv): Conv2dStaticSamePadding(\n              232, 1392, kernel_size=(1, 1), stride=(1, 1), bias=False\n              (static_padding): Identity()\n            )\n            (_bn0): BatchNorm2d(1392, eps=0.001, momentum=0.010000000000000009, affine=True, track_running_stats=True)\n            (_depthwise_conv): Conv2dStaticSamePadding(\n              1392, 1392, kernel_size=(5, 5), stride=(1, 1), groups=1392, bias=False\n              (static_padding): ZeroPad2d((2, 2, 2, 2))\n            )\n            (_bn1): BatchNorm2d(1392, eps=0.001, momentum=0.010000000000000009, affine=True, track_running_stats=True)\n            (_se_reduce): Conv2dStaticSamePadding(\n              1392, 58, kernel_size=(1, 1), stride=(1, 1)\n              (static_padding): Identity()\n            )\n            (_se_expand): Conv2dStaticSamePadding(\n              58, 1392, kernel_size=(1, 1), stride=(1, 1)\n              (static_padding): Identity()\n            )\n            (_project_conv): Conv2dStaticSamePadding(\n              1392, 232, kernel_size=(1, 1), stride=(1, 1), bias=False\n              (static_padding): Identity()\n            )\n            (_bn2): BatchNorm2d(232, eps=0.001, momentum=0.010000000000000009, affine=True, track_running_stats=True)\n            (_swish): MemoryEfficientSwish()\n          )\n          (24): MBConvBlock(\n            (_expand_conv): Conv2dStaticSamePadding(\n              232, 1392, kernel_size=(1, 1), stride=(1, 1), bias=False\n              (static_padding): Identity()\n            )\n            (_bn0): BatchNorm2d(1392, eps=0.001, momentum=0.010000000000000009, affine=True, track_running_stats=True)\n            (_depthwise_conv): Conv2dStaticSamePadding(\n              1392, 1392, kernel_size=(3, 3), stride=[1, 1], groups=1392, bias=False\n              (static_padding): ZeroPad2d((1, 1, 1, 1))\n            )\n            (_bn1): BatchNorm2d(1392, eps=0.001, momentum=0.010000000000000009, affine=True, track_running_stats=True)\n            (_se_reduce): Conv2dStaticSamePadding(\n              1392, 58, kernel_size=(1, 1), stride=(1, 1)\n              (static_padding): Identity()\n            )\n            (_se_expand): Conv2dStaticSamePadding(\n              58, 1392, kernel_size=(1, 1), stride=(1, 1)\n              (static_padding): Identity()\n            )\n            (_project_conv): Conv2dStaticSamePadding(\n              1392, 384, kernel_size=(1, 1), stride=(1, 1), bias=False\n              (static_padding): Identity()\n            )\n            (_bn2): BatchNorm2d(384, eps=0.001, momentum=0.010000000000000009, affine=True, track_running_stats=True)\n            (_swish): MemoryEfficientSwish()\n          )\n          (25): MBConvBlock(\n            (_expand_conv): Conv2dStaticSamePadding(\n              384, 2304, kernel_size=(1, 1), stride=(1, 1), bias=False\n              (static_padding): Identity()\n            )\n            (_bn0): BatchNorm2d(2304, eps=0.001, momentum=0.010000000000000009, affine=True, track_running_stats=True)\n            (_depthwise_conv): Conv2dStaticSamePadding(\n              2304, 2304, kernel_size=(3, 3), stride=(1, 1), groups=2304, bias=False\n              (static_padding): ZeroPad2d((1, 1, 1, 1))\n            )\n            (_bn1): BatchNorm2d(2304, eps=0.001, momentum=0.010000000000000009, affine=True, track_running_stats=True)\n            (_se_reduce): Conv2dStaticSamePadding(\n              2304, 96, kernel_size=(1, 1), stride=(1, 1)\n              (static_padding): Identity()\n            )\n            (_se_expand): Conv2dStaticSamePadding(\n              96, 2304, kernel_size=(1, 1), stride=(1, 1)\n              (static_padding): Identity()\n            )\n            (_project_conv): Conv2dStaticSamePadding(\n              2304, 384, kernel_size=(1, 1), stride=(1, 1), bias=False\n              (static_padding): Identity()\n            )\n            (_bn2): BatchNorm2d(384, eps=0.001, momentum=0.010000000000000009, affine=True, track_running_stats=True)\n            (_swish): MemoryEfficientSwish()\n          )\n        )\n        (_conv_head): Conv2dStaticSamePadding(\n          384, 1536, kernel_size=(1, 1), stride=(1, 1), bias=False\n          (static_padding): Identity()\n        )\n        (_bn1): BatchNorm2d(1536, eps=0.001, momentum=0.010000000000000009, affine=True, track_running_stats=True)\n        (_avg_pooling): AdaptiveAvgPool2d(output_size=1)\n        (_dropout): Dropout(p=0.3, inplace=False)\n        (_swish): MemoryEfficientSwish()\n      )\n      (decoder): UnetDecoder(\n        (center): Identity()\n        (blocks): ModuleList(\n          (0): DecoderBlock(\n            (conv1): Conv2dReLU(\n              (0): Conv2d(520, 256, kernel_size=(3, 3), stride=(1, 1), padding=(1, 1), bias=False)\n              (1): BatchNorm2d(256, eps=1e-05, momentum=0.1, affine=True, track_running_stats=True)\n              (2): ReLU(inplace=True)\n            )\n            (attention1): Attention(\n              (attention): Identity()\n            )\n            (conv2): Conv2dReLU(\n              (0): Conv2d(256, 256, kernel_size=(3, 3), stride=(1, 1), padding=(1, 1), bias=False)\n              (1): BatchNorm2d(256, eps=1e-05, momentum=0.1, affine=True, track_running_stats=True)\n              (2): ReLU(inplace=True)\n            )\n            (attention2): Attention(\n              (attention): Identity()\n            )\n          )\n          (1): DecoderBlock(\n            (conv1): Conv2dReLU(\n              (0): Conv2d(304, 128, kernel_size=(3, 3), stride=(1, 1), padding=(1, 1), bias=False)\n              (1): BatchNorm2d(128, eps=1e-05, momentum=0.1, affine=True, track_running_stats=True)\n              (2): ReLU(inplace=True)\n            )\n            (attention1): Attention(\n              (attention): Identity()\n            )\n            (conv2): Conv2dReLU(\n              (0): Conv2d(128, 128, kernel_size=(3, 3), stride=(1, 1), padding=(1, 1), bias=False)\n              (1): BatchNorm2d(128, eps=1e-05, momentum=0.1, affine=True, track_running_stats=True)\n              (2): ReLU(inplace=True)\n            )\n            (attention2): Attention(\n              (attention): Identity()\n            )\n          )\n          (2): DecoderBlock(\n            (conv1): Conv2dReLU(\n              (0): Conv2d(160, 64, kernel_size=(3, 3), stride=(1, 1), padding=(1, 1), bias=False)\n              (1): BatchNorm2d(64, eps=1e-05, momentum=0.1, affine=True, track_running_stats=True)\n              (2): ReLU(inplace=True)\n            )\n            (attention1): Attention(\n              (attention): Identity()\n            )\n            (conv2): Conv2dReLU(\n              (0): Conv2d(64, 64, kernel_size=(3, 3), stride=(1, 1), padding=(1, 1), bias=False)\n              (1): BatchNorm2d(64, eps=1e-05, momentum=0.1, affine=True, track_running_stats=True)\n              (2): ReLU(inplace=True)\n            )\n            (attention2): Attention(\n              (attention): Identity()\n            )\n          )\n          (3): DecoderBlock(\n            (conv1): Conv2dReLU(\n              (0): Conv2d(104, 32, kernel_size=(3, 3), stride=(1, 1), padding=(1, 1), bias=False)\n              (1): BatchNorm2d(32, eps=1e-05, momentum=0.1, affine=True, track_running_stats=True)\n              (2): ReLU(inplace=True)\n            )\n            (attention1): Attention(\n              (attention): Identity()\n            )\n            (conv2): Conv2dReLU(\n              (0): Conv2d(32, 32, kernel_size=(3, 3), stride=(1, 1), padding=(1, 1), bias=False)\n              (1): BatchNorm2d(32, eps=1e-05, momentum=0.1, affine=True, track_running_stats=True)\n              (2): ReLU(inplace=True)\n            )\n            (attention2): Attention(\n              (attention): Identity()\n            )\n          )\n          (4): DecoderBlock(\n            (conv1): Conv2dReLU(\n              (0): Conv2d(32, 16, kernel_size=(3, 3), stride=(1, 1), padding=(1, 1), bias=False)\n              (1): BatchNorm2d(16, eps=1e-05, momentum=0.1, affine=True, track_running_stats=True)\n              (2): ReLU(inplace=True)\n            )\n            (attention1): Attention(\n              (attention): Identity()\n            )\n            (conv2): Conv2dReLU(\n              (0): Conv2d(16, 16, kernel_size=(3, 3), stride=(1, 1), padding=(1, 1), bias=False)\n              (1): BatchNorm2d(16, eps=1e-05, momentum=0.1, affine=True, track_running_stats=True)\n              (2): ReLU(inplace=True)\n            )\n            (attention2): Attention(\n              (attention): Identity()\n            )\n          )\n        )\n      )\n      (segmentation_head): SegmentationHead(\n        (0): Conv2d(16, 1, kernel_size=(3, 3), stride=(1, 1), padding=(1, 1))\n        (1): Identity()\n        (2): Activation(\n          (activation): Identity()\n        )\n      )\n    )\n  ),\n)"
     },
     "execution_count": 9,
     "metadata": {},
     "output_type": "execute_result"
    }
   ],
   "source": [
    "net = NeuralNetClassifier(\n",
    "    UNetModule,\n",
    "    max_epochs=1,\n",
    "    criterion=nn.BCEWithLogitsLoss,\n",
    "    lr=0.1,\n",
    "    iterator_train__shuffle=True,\n",
    "    train_split=None,\n",
    "    # device='cuda'\n",
    ")\n",
    "net.fit(train_ds, y=None)"
   ],
   "metadata": {
    "collapsed": false
   }
  },
  {
   "cell_type": "code",
   "execution_count": null,
   "outputs": [],
   "source": [],
   "metadata": {
    "collapsed": false
   }
  }
 ],
 "metadata": {
  "kernelspec": {
   "display_name": "Python 3",
   "language": "python",
   "name": "python3"
  },
  "language_info": {
   "codemirror_mode": {
    "name": "ipython",
    "version": 2
   },
   "file_extension": ".py",
   "mimetype": "text/x-python",
   "name": "python",
   "nbconvert_exporter": "python",
   "pygments_lexer": "ipython2",
   "version": "2.7.6"
  }
 },
 "nbformat": 4,
 "nbformat_minor": 0
}
